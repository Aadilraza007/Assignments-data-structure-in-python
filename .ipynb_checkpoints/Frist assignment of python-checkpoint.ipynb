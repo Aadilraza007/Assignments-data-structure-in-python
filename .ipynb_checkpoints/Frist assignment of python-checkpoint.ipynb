{
 "cells": [
  {
   "cell_type": "code",
   "execution_count": 1,
   "id": "b1d0c7eb-bf81-42cd-8cb3-bbf12056ed14",
   "metadata": {},
   "outputs": [],
   "source": [
    "#first assingment of python for data analyst-"
   ]
  },
  {
   "cell_type": "code",
   "execution_count": 1,
   "id": "126afd6a-e2b4-47f9-b5a7-bce9e4b5f38b",
   "metadata": {},
   "outputs": [
    {
     "data": {
      "text/plain": [
       "'sllikswp'"
      ]
     },
     "execution_count": 1,
     "metadata": {},
     "output_type": "execute_result"
    }
   ],
   "source": [
    "#1.write a code to reverse a string.\n",
    "\n",
    "\n",
    "#code for reverse a string >>\n",
    "\n",
    "a=\"pwskills\"\n",
    "a[::-1]\n",
    "\n",
    "#insights-  you can reverse a value by doind [:: -1] to variable."
   ]
  },
  {
   "cell_type": "code",
   "execution_count": 4,
   "id": "53cf3c58-0313-423b-bed2-6cc96b77e68d",
   "metadata": {},
   "outputs": [
    {
     "data": {
      "text/plain": [
       "5"
      ]
     },
     "execution_count": 4,
     "metadata": {},
     "output_type": "execute_result"
    }
   ],
   "source": [
    "#2. Write a code to count the number of vowels in  string.\n",
    "\n",
    "#code for count the number\n",
    "\n",
    "txt=\"my name is subham\"\n",
    "vowels=\"aeiou\"\n",
    "\n",
    "len([vowel for vowel in txt if vowel in vowels])\n",
    "\n",
    "#insight- here with len u can find string of vowel and with len u get a total numbers of vowels in txt."
   ]
  },
  {
   "cell_type": "code",
   "execution_count": 2,
   "id": "50143329-bfde-4387-b5f4-9517c637eddd",
   "metadata": {},
   "outputs": [
    {
     "name": "stdin",
     "output_type": "stream",
     "text": [
      "enter the string civic\n"
     ]
    },
    {
     "name": "stdout",
     "output_type": "stream",
     "text": [
      "civic this is palindrom\n"
     ]
    }
   ],
   "source": [
    "#3.Write a code to check if a given string is a palindrome or not.\n",
    "\n",
    "input_string=input(\"enter the string\")\n",
    "reverse= input_string[::-1]\n",
    "\n",
    "if input_string == reverse:\n",
    "    print(reverse,\"this is palindrom\")\n",
    "else:\n",
    "    print(reverse, \"this is not a palindrome\")\n",
    "\n",
    "\n",
    "\n",
    "\n"
   ]
  },
  {
   "cell_type": "code",
   "execution_count": 2,
   "id": "13635f82-bd17-4314-b76b-844d1c474cbc",
   "metadata": {},
   "outputs": [
    {
     "name": "stdout",
     "output_type": "stream",
     "text": [
      "anagram\n"
     ]
    }
   ],
   "source": [
    "#4.Write a code to check if two given strings are anagrams of each other.\n",
    "\n",
    "\n",
    "a=\"range\"\n",
    "b=\"genra\"\n",
    "\n",
    "if  sorted(a)== sorted(b):\n",
    "    print(\"anagram\")\n",
    "else:\n",
    "    print(\"not anagram\")\n",
    "    \n",
    "    \n",
    "#insight- if we can make same words by usning both variable values that is call anagrams.sometime we have to do lower() if someowords given capital."
   ]
  },
  {
   "cell_type": "code",
   "execution_count": 3,
   "id": "37dc0a62-3c40-4b93-a36f-182478617529",
   "metadata": {},
   "outputs": [
    {
     "data": {
      "text/plain": [
       "[25]"
      ]
     },
     "execution_count": 3,
     "metadata": {},
     "output_type": "execute_result"
    }
   ],
   "source": [
    "#5.Write a code to find all occurrences of a given substring within another string.\n",
    "\n",
    "\n",
    "string1=\"pwskills is the learning platform\"\n",
    "\n",
    "sub_string=\"platform\"\n",
    "\n",
    "\n",
    "[i for i in range(len(string1)) if string1.startswith(sub_string,i)]"
   ]
  },
  {
   "cell_type": "code",
   "execution_count": 3,
   "id": "2e89f911-54b5-4835-aad7-b41e72779c3a",
   "metadata": {},
   "outputs": [
    {
     "name": "stdin",
     "output_type": "stream",
     "text": [
      "enter the string aavbsss\n"
     ]
    },
    {
     "name": "stdout",
     "output_type": "stream",
     "text": [
      "a2vbs3\n"
     ]
    }
   ],
   "source": [
    "#6.Write a code to perform basic string compression using the counts of repeated characters.\n",
    "\n",
    "s=input(\"enter the string\")\n",
    "def solve(s):\n",
    "    res=\"\"\n",
    "    cnt=1\n",
    "    for i in range(1,len(s)):\n",
    "        if s[i-1]== s[i]:\n",
    "            cnt= cnt+1\n",
    "        else:\n",
    "            res= res + s[i-1]\n",
    "            if cnt>1:\n",
    "                res = res+ str(cnt)\n",
    "            cnt=1   \n",
    "    res= res + s[-1]\n",
    "    if cnt > 1:\n",
    "        res += str(cnt)\n",
    "    return res\n",
    "    \n",
    "print(solve(s))\n",
    "\n",
    "\n",
    "    "
   ]
  },
  {
   "cell_type": "code",
   "execution_count": 5,
   "id": "35d6457f-3dd5-4efb-9881-28a957091248",
   "metadata": {},
   "outputs": [
    {
     "name": "stdin",
     "output_type": "stream",
     "text": [
      "enter the string adil\n"
     ]
    },
    {
     "name": "stdout",
     "output_type": "stream",
     "text": [
      "yes\n"
     ]
    }
   ],
   "source": [
    "#7.Write a code to determine if a string has all unique characters.\n",
    "\n",
    "\n",
    "\n",
    "\n",
    "string=input(str(\"enter the string\"))\n",
    "\n",
    "a=list(set(string))\n",
    "b=list(string)\n",
    "a.sort()\n",
    "b.sort()\n",
    "\n",
    "if (a==b):\n",
    "    print(\"yes\")\n",
    "else:\n",
    "    print(\"no\")\n",
    "\n",
    "\n",
    "#insight- set doesn't allow repeated number and output comes unordered that is why have to sorted the value to determine string has all\n",
    "          # unique characters.\n"
   ]
  },
  {
   "cell_type": "code",
   "execution_count": 3,
   "id": "b488bb7d-bb3f-4502-9b75-6c2cfc6cdb8c",
   "metadata": {},
   "outputs": [
    {
     "data": {
      "text/plain": [
       "'MY NAME IS AADIL'"
      ]
     },
     "execution_count": 3,
     "metadata": {},
     "output_type": "execute_result"
    }
   ],
   "source": [
    "#8.Write a code to convert a given string to uppercase  or lowercase.\n",
    "\n",
    "strng= \"My name Is AaDIl\"\n",
    "\n",
    "strng.lower()\n",
    "strng.upper()\n",
    "\n",
    "\n",
    "#insight- u can change value by doing .lower() and .upper()"
   ]
  },
  {
   "cell_type": "code",
   "execution_count": 49,
   "id": "6f04cf63-0217-4562-8e03-d8654c3bce16",
   "metadata": {},
   "outputs": [
    {
     "name": "stdout",
     "output_type": "stream",
     "text": [
      "21\n",
      "0\n",
      "1\n",
      "2\n",
      "3\n",
      "4\n",
      "5\n",
      "6\n",
      "7\n",
      "8\n",
      "9\n",
      "10\n",
      "11\n",
      "12\n",
      "13\n",
      "14\n",
      "15\n",
      "16\n",
      "17\n",
      "18\n",
      "19\n",
      "20\n"
     ]
    }
   ],
   "source": [
    "#9.Write a code to count the number of words in a string.\n",
    "\n",
    "string=\"my name is aadil raza\"\n",
    "\n",
    "len(string)  #u can counnt the whole line by this\n",
    "\n",
    "count=0\n",
    "\n",
    "for i in string:\n",
    "    count=count+1\n",
    "print(count)      # u can do this by using loop as well\n",
    "\n",
    "\n",
    "\n",
    "for i in range(len(string)):\n",
    "    print(i)       # u can also count the number by this formula\n",
    "    \n",
    "    \n",
    "#insight- with len u will get count and also u can try with loop"
   ]
  },
  {
   "cell_type": "code",
   "execution_count": 65,
   "id": "68e909d0-bbeb-478b-954b-43cd6c84b528",
   "metadata": {},
   "outputs": [
    {
     "data": {
      "text/plain": [
       "'aadilraza'"
      ]
     },
     "execution_count": 65,
     "metadata": {},
     "output_type": "execute_result"
    }
   ],
   "source": [
    "#10.Write a code to concatenate two strings without using the + operator.\n",
    "\n",
    "\n",
    "\n",
    "a= \"aadil\"\n",
    "b=\"raza\"\n",
    "\n",
    "print(a,b)   # 1st way to combine\n",
    "\n",
    "\n",
    "c=\"{}{}\"\n",
    "c.format(a,b)         # u can also merge by format\n",
    "\n",
    "f\"{a}{b}\"      # formating in short style\n",
    "\n",
    "\n",
    "#insight- above 02 ways to concatenate two string\n",
    "\n"
   ]
  },
  {
   "cell_type": "code",
   "execution_count": 106,
   "id": "c217ffd3-dbdf-406c-a472-8e83bc02fdb3",
   "metadata": {},
   "outputs": [],
   "source": [
    "#11.Write a code to remove all occurrences of a specific element from a list.\n",
    "\n",
    "\n",
    "lis=[\"pwskills\",\"ds\",3,4,5,6,7,8,9]\n",
    "\n",
    "lis.remove(\"pwskills\")   #u can remove particiuilcar by this\n",
    "\n",
    "lis.pop(2)     # u can delete the element by using index number\n",
    "\n",
    "lis.clear() # u can remove all element by using this\n",
    "\n",
    "\n",
    "\n",
    "    "
   ]
  },
  {
   "cell_type": "code",
   "execution_count": 119,
   "id": "40f8a094-a4df-48e1-a0b0-522b820156f8",
   "metadata": {},
   "outputs": [
    {
     "data": {
      "text/plain": [
       "51"
      ]
     },
     "execution_count": 119,
     "metadata": {},
     "output_type": "execute_result"
    }
   ],
   "source": [
    "#12.Implement a code to find the second largest number in a given list of integers.\n",
    "\n",
    "\n",
    "lis=[10,18,7,25,11,79,51,66]\n",
    "\n",
    "sorted(lis)\n",
    "\n",
    "lis[-2]      #second largest number\n",
    "\n",
    "\n",
    "\n",
    "\n",
    "#insight- after sorting the number lis[-2] will find u second highest number\n",
    "\n",
    "\n",
    "\n"
   ]
  },
  {
   "cell_type": "code",
   "execution_count": 31,
   "id": "609f765c-6508-411a-9b34-d2582444f060",
   "metadata": {},
   "outputs": [
    {
     "name": "stdout",
     "output_type": "stream",
     "text": [
      "{1: 1, 2: 2, 3: 2, 4: 2, 5: 3, 9: 1}\n"
     ]
    }
   ],
   "source": [
    "#13.Create a code to count the occurrences of each element in a list and return a disctionary with elements as keys and their \n",
    "#counts as values.\n",
    "\n",
    "lis=[1,2,3,3,4,4,5,5,5,2,9]\n",
    "\n",
    "def dic_(lis):\n",
    "    occ_dic={}\n",
    "    for i in lis:\n",
    "        if i in occ_dic:\n",
    "            occ_dic[i]+=1\n",
    "        else:\n",
    "            occ_dic[i]=1\n",
    "    return occ_dic\n",
    "print(dic_(lis))\n",
    "\n",
    "\n",
    "\n",
    "    \n",
    "    \n"
   ]
  },
  {
   "cell_type": "code",
   "execution_count": 35,
   "id": "5ffb2c7e-22b5-490e-9ea4-d414ac92cfd2",
   "metadata": {},
   "outputs": [
    {
     "name": "stdout",
     "output_type": "stream",
     "text": [
      "[9, 8, 7, 6, 5, 4, 3, 2, 1]\n"
     ]
    }
   ],
   "source": [
    "#14.Write a code to reverse a list in-place without using any built-in reverse function.\n",
    "\n",
    "lis=[1,2,3,4,5,6,7,8,9]\n",
    "lis1=[]\n",
    "for i in lis:\n",
    "    lis1.insert(0,i)\n",
    "    \n",
    "print(lis1)\n"
   ]
  },
  {
   "cell_type": "code",
   "execution_count": 22,
   "id": "51cd07a1-82d9-4c62-8d71-2193797238d1",
   "metadata": {},
   "outputs": [
    {
     "name": "stdout",
     "output_type": "stream",
     "text": [
      "[1, 2, 3, 4, 5, 7, 8]\n"
     ]
    }
   ],
   "source": [
    "#15.Implement a code to find and remove duplicates from a list while preserving the original order of elements.\n",
    "\n",
    "lis=[1,2,1,2,3,3,4,5,7,8,8]\n",
    "\n",
    "unique_list=[]  \n",
    "for i in lis:\n",
    "    if i not in unique_list:\n",
    "        unique_list.append(i)\n",
    "\n",
    "print(unique_list)\n"
   ]
  },
  {
   "cell_type": "code",
   "execution_count": 47,
   "id": "5f4d6130-af16-41d1-bdab-62f074757ff2",
   "metadata": {},
   "outputs": [
    {
     "name": "stdout",
     "output_type": "stream",
     "text": [
      "list is not sorted\n"
     ]
    }
   ],
   "source": [
    "#16.create a code to check if a given list is sorted(either in ascending or descending order) or not.\n",
    "\n",
    "\n",
    "\n",
    "lis=[14,5,6,27,8,9,10]\n",
    "lis1=sorted(lis)\n",
    "\n",
    "\n",
    "if lis==lis1:\n",
    "    print(\"list is sorted\")\n",
    "else:\n",
    "    print(\"list is not sorted\")\n"
   ]
  },
  {
   "cell_type": "code",
   "execution_count": 83,
   "id": "654b1a74-e6a5-4de4-b031-07649a1a6004",
   "metadata": {},
   "outputs": [
    {
     "data": {
      "text/plain": [
       "['a', 'c', 'd', 'f', 'h', 'w']"
      ]
     },
     "execution_count": 83,
     "metadata": {},
     "output_type": "execute_result"
    }
   ],
   "source": [
    "#17.write a code to merge two sorted list into a single sorted list.\n",
    "\n",
    "\n",
    "lis1=['a','d','c']\n",
    "lis2=['f','h','w']\n",
    "\n",
    "sor1=sorted(lis1)\n",
    "sor2=sorted(lis2)\n",
    "\n",
    "sorted(sor1 +sor2)\n",
    "\n"
   ]
  },
  {
   "cell_type": "code",
   "execution_count": 1,
   "id": "ed186bf4-7afd-4bcd-aef7-9103d6889acf",
   "metadata": {},
   "outputs": [
    {
     "data": {
      "text/plain": [
       "[22, 55]"
      ]
     },
     "execution_count": 1,
     "metadata": {},
     "output_type": "execute_result"
    }
   ],
   "source": [
    "#18 implement a code to find the intersection of two given lists.\n",
    "\n",
    "lis1=[22,33,44,55]\n",
    "lis2=[11,22,48,55]\n",
    "\n",
    "\n",
    "[i for i in lis1 if i in lis2]\n",
    "\n",
    "\n",
    "#insight-  22 is intersection value as we show above.\n",
    "\n"
   ]
  },
  {
   "cell_type": "code",
   "execution_count": 53,
   "id": "4a375b4e-b491-48d5-b644-e7c12a3279a2",
   "metadata": {},
   "outputs": [
    {
     "name": "stdout",
     "output_type": "stream",
     "text": [
      "{42, 11, 44, 77, 22, 55, 88}\n"
     ]
    }
   ],
   "source": [
    "#19.create a code to find the union of two lists  without duplicates. \n",
    "\n",
    "lis1=[22,11,42,44,55]\n",
    "lis2=[44,55,77,88]\n",
    "\n",
    "c=set(lis1+lis2)\n",
    "\n",
    "print(c)\n",
    "\n",
    "\n",
    "\n",
    "#insight- set included into the code to remove duplicate......"
   ]
  },
  {
   "cell_type": "code",
   "execution_count": 69,
   "id": "434e893d-0ee8-47b3-84d3-9b97bcb6bf1e",
   "metadata": {},
   "outputs": [
    {
     "name": "stdout",
     "output_type": "stream",
     "text": [
      "[88, 55, 7, 6, 5, 99, 44, 8, 77]\n"
     ]
    }
   ],
   "source": [
    "#20.Write a code to shuffle a given list randomly without using any built-in shuffle functions.\n",
    "\n",
    "lis=[44,55,77,88,99,7,8,6,5]\n",
    "\n",
    "import random\n",
    "\n",
    "shuffle_list=sorted(lis, key=lambda x: random.random())\n",
    "\n",
    "print(shuffle_list)"
   ]
  },
  {
   "cell_type": "code",
   "execution_count": 77,
   "id": "dc0abfd0-643e-41d2-994a-34f1ff7aebcb",
   "metadata": {},
   "outputs": [
    {
     "name": "stdin",
     "output_type": "stream",
     "text": [
      "() pwskills\n",
      "() data analyst\n"
     ]
    },
    {
     "name": "stdout",
     "output_type": "stream",
     "text": [
      "['s', 'l', 'l', 's']\n"
     ]
    }
   ],
   "source": [
    "#21.write a code that takes two tuples as input and returns a new tuple contaianing element that are common to both input\n",
    "#tuples.\n",
    "\n",
    "tup1=input(tuple(\"\"))\n",
    "tup2=input(tuple(\"\"))\n",
    "\n",
    "def a():\n",
    "    tup3=[i for i in tup1 if i in tup2]\n",
    "    return tup3\n",
    "\n",
    "     \n",
    "print(a())\n"
   ]
  },
  {
   "cell_type": "code",
   "execution_count": 6,
   "id": "9b361a67-e48e-46da-94e6-f8ec6aaa15ee",
   "metadata": {},
   "outputs": [
    {
     "name": "stdin",
     "output_type": "stream",
     "text": [
      "enter the first set of int sep by comma: 4,5,7,8\n",
      "enter the second set of int sep by comma: 4,5,77\n"
     ]
    },
    {
     "name": "stdout",
     "output_type": "stream",
     "text": [
      "the intersection of two sets is {4, 5}\n"
     ]
    }
   ],
   "source": [
    "# 22.Create a code that prompts the user to enter two sets of integers separated by commas. Then, print the intersection of \n",
    "#these two sets.\n",
    "\n",
    "def get_input(prompt):\n",
    "    user_input= input(prompt)\n",
    "    int_set= set(map(int,user_input.split(\",\")))\n",
    "    return int_set\n",
    "\n",
    "def main():\n",
    "    set1= get_input(\"enter the first set of int sep by comma:\")\n",
    "    set2=get_input(\"enter the second set of int sep by comma:\")\n",
    "    \n",
    "    intersection = set1 & set2\n",
    "    print(\"the intersection of two sets is\",intersection)\n",
    "    \n",
    "if __name__ == \"__main__\":\n",
    "    main()\n",
    "\n",
    "\n",
    "\n",
    "\n",
    "\n"
   ]
  },
  {
   "cell_type": "code",
   "execution_count": 75,
   "id": "afd8a8b1-411e-4d84-9640-b0018c14b824",
   "metadata": {},
   "outputs": [
    {
     "name": "stdin",
     "output_type": "stream",
     "text": [
      "enter the first elements aadil\n",
      "enter the second elements raza\n"
     ]
    },
    {
     "name": "stdout",
     "output_type": "stream",
     "text": [
      "the new tuple is which containg elements from both input tuples is ('a', 'a', 'd', 'i', 'l', 'r', 'a', 'z', 'a')\n"
     ]
    }
   ],
   "source": [
    "#23.Write a code to concatenate two tuples. The function should take two tuples as input and return a new tuple containing \n",
    "#elements from both input tuples.\n",
    "\n",
    "\n",
    "tup1= tuple(input(\"enter the first elements\"))\n",
    "tup2= tuple(input(\"enter the second elements\"))\n",
    "\n",
    "def func_(tup1,tup2):\n",
    "    return tup1+tup2\n",
    "tup3= func_(tup1,tup2)\n",
    "\n",
    "print(\"the new tuple is which containg elements from both input tuples is\",tup3)\n",
    "\n"
   ]
  },
  {
   "cell_type": "code",
   "execution_count": 79,
   "id": "7ad9d585-d2d2-4fa4-b649-4a0bb9f2c835",
   "metadata": {},
   "outputs": [
    {
     "name": "stdin",
     "output_type": "stream",
     "text": [
      "enter the first string: aadil\n",
      "enter the second string: raza\n"
     ]
    },
    {
     "name": "stdout",
     "output_type": "stream",
     "text": [
      "{'i', 'd', 'l'}\n"
     ]
    }
   ],
   "source": [
    "#24.Develop a code that prompts the user to input two sets of strings. Then print the elements that are present in the first \n",
    "#set but not in the second set.\n",
    "\n",
    "a=input(\"enter the first string:\")\n",
    "b=input(\"enter the second string:\")\n",
    "\n",
    "# converting a string into set\n",
    "set1=set(a)\n",
    "set2=set(b)\n",
    "\n",
    "#delements that are present in the first set but not in the second set.\n",
    "print(set1 -set2)\n",
    "\n"
   ]
  },
  {
   "cell_type": "code",
   "execution_count": 2,
   "id": "80b95218-b522-41d0-bdd5-bcc7209ca18a",
   "metadata": {},
   "outputs": [
    {
     "name": "stdout",
     "output_type": "stream",
     "text": [
      "(3, 4, 5)\n"
     ]
    }
   ],
   "source": [
    "#25.Create a code that takes a tuple and two integers as input. The function should returns a new tuple containing elements \n",
    "#from the original tuple within the specified range of indicas.\n",
    "\n",
    "\n",
    "def data_(data_tuple,start_index,end_index):\n",
    "    if start_index < 0 or end_index > len(data_tuple) or start_index > end_index:\n",
    "        raise ValueError(\"invalid index\")\n",
    "        \n",
    "    new_tuple= data_tuple[start_index:end_index]\n",
    "    \n",
    "    return new_tuple\n",
    "\n",
    "data_tuple=(1,2,3,4,5,6)\n",
    "start_index= 2\n",
    "end_index=5\n",
    "\n",
    "\n",
    "print(data_(data_tuple,start_index,end_index))"
   ]
  },
  {
   "cell_type": "code",
   "execution_count": 12,
   "id": "aa98647a-a982-4333-9224-962018ec52d2",
   "metadata": {},
   "outputs": [
    {
     "name": "stdin",
     "output_type": "stream",
     "text": [
      "enter the first character pwskiils\n",
      "enter the second character institute\n"
     ]
    },
    {
     "name": "stdout",
     "output_type": "stream",
     "text": [
      "{'e', 'i', 's', 't', 'n', 'u', 'w', 'p', 'l', 'k'}\n"
     ]
    }
   ],
   "source": [
    "#26.Write a code that prompts the user to input two sets of characters. Then print the union of these two sets.\n",
    "\n",
    "sets_of_char1= set(input(\"enter the first character\"))\n",
    "sets_of_char2= set(input(\"enter the second character\"))\n",
    "\n",
    "# def union(sets_of_char1,sets_of_char2):\n",
    "#     return sets_of_char1 | sets_of_char2\n",
    "\n",
    "# print(union(sets_of_char1,sets_of_char2))\n",
    "\n",
    "union_of_sets=sets_of_char1.union(sets_of_char2)\n",
    "\n",
    "print(union_of_sets)"
   ]
  },
  {
   "cell_type": "code",
   "execution_count": 76,
   "id": "e7e1ffbb-3a4f-400e-9ae5-3ccdc7294bf5",
   "metadata": {},
   "outputs": [
    {
     "name": "stdout",
     "output_type": "stream",
     "text": [
      "23 96\n"
     ]
    }
   ],
   "source": [
    "#27.Develop a code that takes a tuple of integers as input. The function should return the maximum and minimum values from \n",
    "#the tuple using tuple unpacking.\n",
    "tup1=(45,23,45,78,96,63,42)\n",
    "\n",
    "def main_max(tup1):\n",
    "    return min(tup1), max(tup1)\n",
    "\n",
    "\n",
    "\n",
    "\n",
    "min_val, max_val= main_max(tup1)\n",
    "print(min_val, max_val)\n"
   ]
  },
  {
   "cell_type": "code",
   "execution_count": 9,
   "id": "26a72387-8a26-47a3-8eab-a5503144a2c0",
   "metadata": {},
   "outputs": [
    {
     "name": "stdout",
     "output_type": "stream",
     "text": [
      "union of two sets {1, 2, 3, 4, 5, 7, 8, 9, 10, 105, 11, 20}\n",
      "intersection of two sets {1, 2, 5, 7}\n",
      "differnce of two sets {3, 4, 8, 9, 10}\n"
     ]
    }
   ],
   "source": [
    "#28.Create a code that defines two sets of integers. Then print the union intersection and differenct of these two sets.\n",
    "\n",
    "set1={1,2,3,4,5,7,8,9,10}\n",
    "set2={11,20,1,2,5,7,105}\n",
    "\n",
    "#union of two sets\n",
    "\n",
    "print(\"union of two sets\",set1 | set2)\n",
    "\n",
    "print(\"intersection of two sets\", set1 & set2)\n",
    "\n",
    "print(\"differnce of two sets\", set1 - set2)\n",
    "\n",
    "\n"
   ]
  },
  {
   "cell_type": "code",
   "execution_count": 68,
   "id": "69c65386-7b5a-4428-9b10-b00c94e1b47d",
   "metadata": {},
   "outputs": [
    {
     "name": "stdin",
     "output_type": "stream",
     "text": [
      "nter element:  1\n"
     ]
    },
    {
     "name": "stdout",
     "output_type": "stream",
     "text": [
      "3\n"
     ]
    }
   ],
   "source": [
    "#29. Write a code that takes a tuple and an element as input. The function should return the count of occurrences\n",
    "#of the given element in the tuple.\n",
    "\n",
    "t=(1,2,3,4,5,5,3,2,6,1,1)\n",
    "ele=int(input(\"enter element: \"))\n",
    "\n",
    "def count_occurrences(t, ele):\n",
    "    return t.count(ele)\n",
    "print(count_occurrences(t, ele)) \n",
    "            \n",
    "\n"
   ]
  },
  {
   "cell_type": "code",
   "execution_count": 15,
   "id": "246db6c3-c64f-4e89-8d10-68bb2280f652",
   "metadata": {},
   "outputs": [
    {
     "name": "stdin",
     "output_type": "stream",
     "text": [
      "enter the first strings aadil\n",
      "enter the second strings aakib\n"
     ]
    },
    {
     "name": "stdout",
     "output_type": "stream",
     "text": [
      "{'l', 'b', 'd', 'k'}\n"
     ]
    }
   ],
   "source": [
    "#30.Develop a code that prompts the user to input two sets of strings. Then print the symmetric difference of these two sets.\n",
    "\n",
    "a= str(input(\"enter the first strings\"))\n",
    "b= str(input(\"enter the second strings\"))\n",
    "\n",
    "set1= set(a)\n",
    "set2= set(b)\n",
    "\n",
    "symmetric_dif=set1 ^ set2\n",
    "\n",
    "print(symmetric_dif)\n",
    "\n"
   ]
  },
  {
   "cell_type": "code",
   "execution_count": 30,
   "id": "fbe69f05-21dd-45dd-9467-ae8504d0f35f",
   "metadata": {},
   "outputs": [
    {
     "name": "stdout",
     "output_type": "stream",
     "text": [
      "{'apple': 1, 'banana': 2, 'watermelon': 1, 'orange': 3}\n"
     ]
    }
   ],
   "source": [
    "#31.Write a code that takes a list of words as input and returns a dictionary where the keys are unique words and the values \n",
    "#are the frequencies of those words in the input lists.\n",
    "\n",
    "lis=[\"apple\",\"banana\",\"watermelon\",\"banana\",\"orange\",\"orange\",\"orange\"]\n",
    "def freq(lis):\n",
    "    dic1={}\n",
    "    for i in lis:\n",
    "        if i in dic1:\n",
    "            dic1[i]+=1\n",
    "        else:\n",
    "            dic1[i]=1\n",
    "    return dic1\n",
    "\n",
    "print(freq(lis))\n",
    "\n"
   ]
  },
  {
   "cell_type": "code",
   "execution_count": 35,
   "id": "880a43af-9caf-41b8-b8f6-844504eec0fe",
   "metadata": {},
   "outputs": [
    {
     "name": "stdout",
     "output_type": "stream",
     "text": [
      "{'banana': 55, 'orange': 35, 'mango': 18}\n"
     ]
    }
   ],
   "source": [
    "#32.Write a code that takes two dictionaries as input and merges them into a single dictionary.\n",
    "# If there are common keys, the values should be added together.\n",
    "\n",
    "dic1={\"banana\":5,\"orange\":15,\"mango\":18}\n",
    "dic2={\"orange\":20,\"banana\":12,\"banana\":50}\n",
    "\n",
    "def merge_dic(dic1,dic2):\n",
    "    dic3=dic1\n",
    "    for key, value in dic2.items():\n",
    "        if key in dic3:\n",
    "            dic3[key]+=value\n",
    "        else:\n",
    "            dic3[key]=value\n",
    "    return dic3\n",
    "\n",
    "print(merge_dic(dic1,dic2))\n"
   ]
  },
  {
   "cell_type": "code",
   "execution_count": 54,
   "id": "35073cc7-42bb-4103-b455-73b5e6a71c60",
   "metadata": {},
   "outputs": [
    {
     "name": "stdout",
     "output_type": "stream",
     "text": [
      "{'e': 45, 'a': {'b': [2, 3], 'c': [4, 5, 6]}}\n"
     ]
    },
    {
     "name": "stdin",
     "output_type": "stream",
     "text": [
      "enter keys e\n"
     ]
    },
    {
     "name": "stdout",
     "output_type": "stream",
     "text": [
      "e\n",
      "the value of e is:\n",
      "45\n"
     ]
    }
   ],
   "source": [
    "#33.Write a code to access a value in a nested dictionary. The function should take the dictionary and a list of\n",
    "#keys as input and return the corresponding value. If any of the keys do not exist in the dictionary the\n",
    "#function should return None.\n",
    "\n",
    "nest_dic={'e':45,'a':{'b':[2,3],'c':[4,5,6]}}\n",
    "print(nest_dic)\n",
    "keys=input(\"enter keys\")\n",
    "print(keys)\n",
    "\n",
    "def get_val(nest_dic, keys):\n",
    "    current_dic= nest_dic\n",
    "    for key in keys:\n",
    "        if key in current_dic:\n",
    "            print(\"the value of \"+keys+\" is:\")\n",
    "            current_dic= current_dic[key]\n",
    "        else:\n",
    "            return None\n",
    "    return current_dic\n",
    "\n",
    "print(get_val(nest_dic, keys))\n",
    "\n",
    "\n",
    "\n"
   ]
  },
  {
   "cell_type": "code",
   "execution_count": 29,
   "id": "b5f80fdd-e34b-4360-a4d9-3af01e002c34",
   "metadata": {},
   "outputs": [
    {
     "name": "stdout",
     "output_type": "stream",
     "text": [
      "original dictionary\n",
      "\n",
      "choose the number whether u want ascending or decending order of sorted dictionary:   \n",
      "1.ascending.\n",
      "2.decsending.\n",
      "\n"
     ]
    },
    {
     "name": "stdin",
     "output_type": "stream",
     "text": [
      "enter the number 2\n"
     ]
    },
    {
     "name": "stdout",
     "output_type": "stream",
     "text": [
      "disctionary will be sorted in descending order\n",
      "{'c': 500, 'b': 101, 'e': 54, 'a': 50, 'd': 11}\n"
     ]
    }
   ],
   "source": [
    "#34.Write a code that takes a dictionary as input and returns a sorted version of it based on the values. You can choose \n",
    "#whether to sort in ascending or descending order.\n",
    "\n",
    "\n",
    "dic1={\"a\":50,\"b\":101,\"c\":500,\"d\":11,\"e\":54}\n",
    "\n",
    "print(\"original dictionary\")\n",
    "print()\n",
    "\n",
    "item= list(dic1.items())\n",
    "def disc_asce(dic1,item):\n",
    "    item.sort(key=lambda x : x[1], )\n",
    "    sorted_dic= dict(item) \n",
    "    return sorted_dic\n",
    "def disc_des(dic1, item):\n",
    "    item.sort(key=lambda x : x[1],reverse= True)\n",
    "    sorted_dic= dict(item)\n",
    "    return sorted_dic\n",
    "\n",
    "print(\"choose the number whether u want ascending or decending order of sorted dictionary:   \")\n",
    "print(\"1.ascending.\")\n",
    "print(\"2.decsending.\")\n",
    "print()\n",
    "n= int(input(\"enter the number\"))\n",
    "\n",
    "if n==1:\n",
    "    print(\"disctionary will be sorted in ascending order\")\n",
    "    print(disc_asce(dic1, item))\n",
    "    \n",
    "elif n==2:\n",
    "    print(\"disctionary will be sorted in descending order\")\n",
    "    print(disc_des(dic1, item))\n",
    "else:\n",
    "    print(\"choose 1 or 2 only\")\n",
    "    \n",
    "\n",
    "    \n",
    "    \n",
    "\n",
    "\n"
   ]
  },
  {
   "cell_type": "code",
   "execution_count": 2,
   "id": "5345ce2e-4bd0-4bd8-98db-b119045e82b7",
   "metadata": {},
   "outputs": [
    {
     "name": "stdout",
     "output_type": "stream",
     "text": [
      "old dictionary is:\n",
      "{'a': 50, 'b': 40, 'c': 77, 'd': 50, 'e': 80}\n",
      "\n",
      "new disctionary after swapping:\n",
      "{50: ['a', 'd'], 40: ['b'], 77: ['c'], 80: ['e']}\n"
     ]
    }
   ],
   "source": [
    "#35.Write a code that inverts a dictionary swapping keys and values. Ensure that the inverted dictionary\n",
    "#correctly handles cases where multiple keys have the same value by storing the keys as a list in the\n",
    "#inverted dictionary..\n",
    "\n",
    "\n",
    "old_dic={\"a\":50,\"b\":40,\"c\":77,\"d\":50,\"e\":80}\n",
    "\n",
    "print(\"old dictionary is:\")\n",
    "print(old_dic)\n",
    "print()\n",
    "\n",
    "new_dic={}\n",
    "\n",
    "for key, value in old_dic.items():\n",
    "    if value in new_dic:\n",
    "        new_dic[value].append(key)\n",
    "    else:\n",
    "        new_dic[value]= [key]\n",
    "        \n",
    "        \n",
    "print(\"new disctionary after swapping:\")\n",
    "print(new_dic)"
   ]
  }
 ],
 "metadata": {
  "kernelspec": {
   "display_name": "Python 3 (ipykernel)",
   "language": "python",
   "name": "python3"
  },
  "language_info": {
   "codemirror_mode": {
    "name": "ipython",
    "version": 3
   },
   "file_extension": ".py",
   "mimetype": "text/x-python",
   "name": "python",
   "nbconvert_exporter": "python",
   "pygments_lexer": "ipython3",
   "version": "3.10.8"
  }
 },
 "nbformat": 4,
 "nbformat_minor": 5
}
